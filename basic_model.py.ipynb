{
 "cells": [
  {
   "cell_type": "code",
   "execution_count": null,
   "metadata": {
    "collapsed": true
   },
   "outputs": [],
   "source": []
  },
  {
   "cell_type": "code",
   "execution_count": 65,
   "metadata": {
    "collapsed": true
   },
   "outputs": [],
   "source": [
    "#Import libraries:\n",
    "import numpy as np\n",
    "import pandas as pd\n",
    "import seaborn as sns\n",
    "import matplotlib.pyplot as plt\n",
    "import datetime\n",
    "import gc\n",
    "\n",
    "from sklearn.svm import  OneClassSVM\n",
    "from sklearn.model_selection import KFold\n",
    "from sklearn.model_selection import StratifiedKFold\n",
    "from sklearn.metrics import mean_squared_error, accuracy_score\n",
    "from sklearn.linear_model import LinearRegression\n",
    "import lightgbm as lgb\n",
    "import warnings\n",
    "warnings.filterwarnings('ignore')\n",
    "np.random.seed(4590)\n",
    "\n",
    "sns.set_style('whitegrid')"
   ]
  },
  {
   "cell_type": "code",
   "execution_count": 66,
   "metadata": {},
   "outputs": [
    {
     "name": "stdout",
     "output_type": "stream",
     "text": [
      "['Data_Dictionary.xlsx', 'test.csv', 'historical_transactions.csv', 'Elo-Merchant-Category-Recommendation.zip', 'new_merchant_transactions.csv', '.ipynb_checkpoints', 'sample_submission.csv', '.git', '.gitignore', 'LICENSE', 'train.csv', 'basic_model.py.ipynb', 'README.md', 'merchants.csv']\n"
     ]
    }
   ],
   "source": [
    "import os\n",
    "print(os.listdir(\"../Elo-Merchant-Category-Recommendation/\"))"
   ]
  },
  {
   "cell_type": "code",
   "execution_count": 67,
   "metadata": {
    "collapsed": true
   },
   "outputs": [],
   "source": [
    "train_df = pd.read_csv('../Elo-Merchant-Category-Recommendation/train.csv')\n",
    "test_df = pd.read_csv('../Elo-Merchant-Category-Recommendation/test.csv')\n",
    "#df_hist_trans = pd.read_csv('../Elo-Merchant-Category-Recommendation/historical_transactions.csv')\n",
    "new_merchant_trans_df = pd.read_csv('../Elo-Merchant-Category-Recommendation/new_merchant_transactions.csv')"
   ]
  },
  {
   "cell_type": "markdown",
   "metadata": {},
   "source": [
    "## Basic model to test extent before advanced models"
   ]
  },
  {
   "cell_type": "code",
   "execution_count": 68,
   "metadata": {},
   "outputs": [
    {
     "name": "stdout",
     "output_type": "stream",
     "text": [
      "<class 'pandas.core.frame.DataFrame'>\n",
      "RangeIndex: 201917 entries, 0 to 201916\n",
      "Data columns (total 6 columns):\n",
      "first_active_month    201917 non-null object\n",
      "card_id               201917 non-null object\n",
      "feature_1             201917 non-null int64\n",
      "feature_2             201917 non-null int64\n",
      "feature_3             201917 non-null int64\n",
      "target                201917 non-null float64\n",
      "dtypes: float64(1), int64(3), object(2)\n",
      "memory usage: 9.2+ MB\n"
     ]
    }
   ],
   "source": [
    "train_df.info()"
   ]
  },
  {
   "cell_type": "markdown",
   "metadata": {
    "collapsed": true
   },
   "source": [
    "no missing data"
   ]
  },
  {
   "cell_type": "code",
   "execution_count": 69,
   "metadata": {},
   "outputs": [
    {
     "name": "stdout",
     "output_type": "stream",
     "text": [
      "<class 'pandas.core.frame.DataFrame'>\n",
      "RangeIndex: 123623 entries, 0 to 123622\n",
      "Data columns (total 5 columns):\n",
      "first_active_month    123622 non-null object\n",
      "card_id               123623 non-null object\n",
      "feature_1             123623 non-null int64\n",
      "feature_2             123623 non-null int64\n",
      "feature_3             123623 non-null int64\n",
      "dtypes: int64(3), object(2)\n",
      "memory usage: 4.7+ MB\n"
     ]
    }
   ],
   "source": [
    "test_df.info()"
   ]
  },
  {
   "cell_type": "markdown",
   "metadata": {
    "collapsed": true
   },
   "source": [
    "1 data point missing"
   ]
  },
  {
   "cell_type": "markdown",
   "metadata": {
    "collapsed": true
   },
   "source": [
    "filling NAs"
   ]
  },
  {
   "cell_type": "code",
   "execution_count": 70,
   "metadata": {},
   "outputs": [
    {
     "data": {
      "text/plain": [
       "2017-09    13878\n",
       "2017-10    13695\n",
       "2017-08    13638\n",
       "2017-11    12930\n",
       "2017-07    12363\n",
       "2017-12    10170\n",
       "2017-06     9930\n",
       "2017-01     9605\n",
       "2016-12     9403\n",
       "2017-05     9168\n",
       "2017-04     8761\n",
       "2017-03     8271\n",
       "2017-02     8110\n",
       "2016-11     7222\n",
       "2016-10     5371\n",
       "2016-08     4977\n",
       "2016-09     4410\n",
       "2016-07     4188\n",
       "2016-06     4102\n",
       "2016-05     3314\n",
       "2016-04     2938\n",
       "2015-12     2343\n",
       "2016-03     2005\n",
       "2016-01     1711\n",
       "2016-02     1636\n",
       "2015-11     1582\n",
       "2015-10     1532\n",
       "2015-09     1494\n",
       "2015-07     1393\n",
       "2015-08     1376\n",
       "           ...  \n",
       "2014-03      242\n",
       "2014-02      198\n",
       "2013-12      165\n",
       "2014-01      144\n",
       "2013-11      132\n",
       "2013-10      126\n",
       "2013-08      126\n",
       "2013-09      121\n",
       "2013-07      110\n",
       "2013-05       94\n",
       "2013-06       79\n",
       "2013-03       58\n",
       "2013-04       58\n",
       "2012-11       48\n",
       "2012-09       38\n",
       "2013-02       37\n",
       "2012-08       36\n",
       "2018-01       34\n",
       "2012-10       31\n",
       "2012-07       29\n",
       "2012-05       28\n",
       "2013-01       23\n",
       "2012-06       19\n",
       "2012-04       18\n",
       "2012-12       18\n",
       "2012-03       10\n",
       "2011-11        8\n",
       "2012-02        7\n",
       "2011-12        2\n",
       "2018-02        1\n",
       "Name: first_active_month, Length: 75, dtype: int64"
      ]
     },
     "execution_count": 70,
     "metadata": {},
     "output_type": "execute_result"
    }
   ],
   "source": [
    "train_df['first_active_month'].value_counts()"
   ]
  },
  {
   "cell_type": "code",
   "execution_count": 71,
   "metadata": {},
   "outputs": [],
   "source": [
    "test_df['first_active_month'] = test_df['first_active_month'].fillna('2018-01-01')"
   ]
  },
  {
   "cell_type": "code",
   "execution_count": 72,
   "metadata": {},
   "outputs": [
    {
     "data": {
      "text/html": [
       "<div>\n",
       "<style scoped>\n",
       "    .dataframe tbody tr th:only-of-type {\n",
       "        vertical-align: middle;\n",
       "    }\n",
       "\n",
       "    .dataframe tbody tr th {\n",
       "        vertical-align: top;\n",
       "    }\n",
       "\n",
       "    .dataframe thead th {\n",
       "        text-align: right;\n",
       "    }\n",
       "</style>\n",
       "<table border=\"1\" class=\"dataframe\">\n",
       "  <thead>\n",
       "    <tr style=\"text-align: right;\">\n",
       "      <th></th>\n",
       "      <th>first_active_month</th>\n",
       "      <th>card_id</th>\n",
       "      <th>feature_1</th>\n",
       "      <th>feature_2</th>\n",
       "      <th>feature_3</th>\n",
       "      <th>target</th>\n",
       "    </tr>\n",
       "  </thead>\n",
       "  <tbody>\n",
       "    <tr>\n",
       "      <th>0</th>\n",
       "      <td>2017-06</td>\n",
       "      <td>C_ID_92a2005557</td>\n",
       "      <td>5</td>\n",
       "      <td>2</td>\n",
       "      <td>1</td>\n",
       "      <td>-0.820283</td>\n",
       "    </tr>\n",
       "    <tr>\n",
       "      <th>1</th>\n",
       "      <td>2017-01</td>\n",
       "      <td>C_ID_3d0044924f</td>\n",
       "      <td>4</td>\n",
       "      <td>1</td>\n",
       "      <td>0</td>\n",
       "      <td>0.392913</td>\n",
       "    </tr>\n",
       "    <tr>\n",
       "      <th>2</th>\n",
       "      <td>2016-08</td>\n",
       "      <td>C_ID_d639edf6cd</td>\n",
       "      <td>2</td>\n",
       "      <td>2</td>\n",
       "      <td>0</td>\n",
       "      <td>0.688056</td>\n",
       "    </tr>\n",
       "    <tr>\n",
       "      <th>3</th>\n",
       "      <td>2017-09</td>\n",
       "      <td>C_ID_186d6a6901</td>\n",
       "      <td>4</td>\n",
       "      <td>3</td>\n",
       "      <td>0</td>\n",
       "      <td>0.142495</td>\n",
       "    </tr>\n",
       "    <tr>\n",
       "      <th>4</th>\n",
       "      <td>2017-11</td>\n",
       "      <td>C_ID_cdbd2c0db2</td>\n",
       "      <td>1</td>\n",
       "      <td>3</td>\n",
       "      <td>0</td>\n",
       "      <td>-0.159749</td>\n",
       "    </tr>\n",
       "  </tbody>\n",
       "</table>\n",
       "</div>"
      ],
      "text/plain": [
       "  first_active_month          card_id  feature_1  feature_2  feature_3  \\\n",
       "0            2017-06  C_ID_92a2005557          5          2          1   \n",
       "1            2017-01  C_ID_3d0044924f          4          1          0   \n",
       "2            2016-08  C_ID_d639edf6cd          2          2          0   \n",
       "3            2017-09  C_ID_186d6a6901          4          3          0   \n",
       "4            2017-11  C_ID_cdbd2c0db2          1          3          0   \n",
       "\n",
       "     target  \n",
       "0 -0.820283  \n",
       "1  0.392913  \n",
       "2  0.688056  \n",
       "3  0.142495  \n",
       "4 -0.159749  "
      ]
     },
     "execution_count": 72,
     "metadata": {},
     "output_type": "execute_result"
    }
   ],
   "source": [
    "train_df.head()"
   ]
  },
  {
   "cell_type": "markdown",
   "metadata": {
    "collapsed": true
   },
   "source": [
    "#### partition of features"
   ]
  },
  {
   "cell_type": "code",
   "execution_count": 73,
   "metadata": {},
   "outputs": [
    {
     "data": {
      "image/png": "[encoded data removed]",
      "text/plain": [
       "<Figure size 720x504 with 1 Axes>"
      ]
     },
     "metadata": {},
     "output_type": "display_data"
    }
   ],
   "source": [
    "plt.figure(figsize=(10, 7))\n",
    "sns.countplot(train_df['feature_1'])\n",
    "plt.show()"
   ]
  },
  {
   "cell_type": "code",
   "execution_count": 74,
   "metadata": {},
   "outputs": [
    {
     "data": {
      "image/png": "[encoded data removed]",
      "text/plain": [
       "<Figure size 720x504 with 1 Axes>"
      ]
     },
     "metadata": {},
     "output_type": "display_data"
    }
   ],
   "source": [
    "plt.figure(figsize=(10, 7))\n",
    "sns.countplot(train_df['feature_2'])\n",
    "plt.show()"
   ]
  },
  {
   "cell_type": "code",
   "execution_count": 75,
   "metadata": {},
   "outputs": [
    {
     "data": {
      "image/png": "[encoded data removed]",
      "text/plain": [
       "<Figure size 720x504 with 1 Axes>"
      ]
     },
     "metadata": {},
     "output_type": "display_data"
    }
   ],
   "source": [
    "plt.figure(figsize=(10, 7))\n",
    "sns.countplot(train_df['feature_3'])\n",
    "plt.show()"
   ]
  },
  {
   "cell_type": "markdown",
   "metadata": {},
   "source": [
    "Features seem pretty balanced."
   ]
  },
  {
   "cell_type": "markdown",
   "metadata": {},
   "source": [
    "#### First active month"
   ]
  },
  {
   "cell_type": "code",
   "execution_count": 76,
   "metadata": {
    "collapsed": true
   },
   "outputs": [],
   "source": [
    "train_df['first_active_month'] = pd.to_datetime(train_df['first_active_month'])\n",
    "test_df['first_active_month'] = pd.to_datetime(test_df['first_active_month'])"
   ]
  },
  {
   "cell_type": "code",
   "execution_count": 77,
   "metadata": {},
   "outputs": [
    {
     "data": {
      "text/plain": [
       "0   2017-06-01\n",
       "1   2017-01-01\n",
       "2   2016-08-01\n",
       "3   2017-09-01\n",
       "4   2017-11-01\n",
       "Name: first_active_month, dtype: datetime64[ns]"
      ]
     },
     "execution_count": 77,
     "metadata": {},
     "output_type": "execute_result"
    }
   ],
   "source": [
    "train_df['first_active_month'].head()"
   ]
  },
  {
   "cell_type": "code",
   "execution_count": 78,
   "metadata": {},
   "outputs": [
    {
     "name": "stdout",
     "output_type": "stream",
     "text": [
      "Newest client : 2018-02-01 00:00:00\n"
     ]
    }
   ],
   "source": [
    "print(\"Newest client :\", max( max(train_df['first_active_month']), max(test_df['first_active_month'])))"
   ]
  },
  {
   "cell_type": "code",
   "execution_count": 79,
   "metadata": {},
   "outputs": [],
   "source": [
    "first_active_day = pd.to_timedelta(train_df['first_active_month']).apply(lambda x: x.days)\n",
    "first_active_day_test = pd.to_timedelta(test_df['first_active_month']).apply(lambda x: x.days)"
   ]
  },
  {
   "cell_type": "code",
   "execution_count": 80,
   "metadata": {},
   "outputs": [
    {
     "data": {
      "text/plain": [
       "0    17318\n",
       "1    17167\n",
       "2    17014\n",
       "3    17410\n",
       "4    17471\n",
       "Name: first_active_month, dtype: int64"
      ]
     },
     "execution_count": 80,
     "metadata": {},
     "output_type": "execute_result"
    }
   ],
   "source": [
    "first_active_day.head()"
   ]
  },
  {
   "cell_type": "code",
   "execution_count": 81,
   "metadata": {
    "collapsed": true
   },
   "outputs": [],
   "source": [
    "newest = max(max(first_active_day), max(first_active_day_test))"
   ]
  },
  {
   "cell_type": "code",
   "execution_count": 82,
   "metadata": {},
   "outputs": [
    {
     "data": {
      "text/plain": [
       "17563"
      ]
     },
     "execution_count": 82,
     "metadata": {},
     "output_type": "execute_result"
    }
   ],
   "source": [
    "newest"
   ]
  },
  {
   "cell_type": "code",
   "execution_count": 83,
   "metadata": {
    "collapsed": true
   },
   "outputs": [],
   "source": [
    "ancienety = (newest - first_active_day).astype(int) // 30\n",
    "ancienety_test = (newest - first_active_day_test).astype(int) // 30"
   ]
  },
  {
   "cell_type": "code",
   "execution_count": 84,
   "metadata": {},
   "outputs": [
    {
     "data": {
      "image/png": "[encoded data removed]",
      "text/plain": [
       "<Figure size 864x576 with 1 Axes>"
      ]
     },
     "metadata": {},
     "output_type": "display_data"
    }
   ],
   "source": [
    "plt.figure(figsize=(12, 8))\n",
    "sns.distplot(ancienety)\n",
    "plt.xlabel('Ancienety (in month)')\n",
    "plt.show()"
   ]
  },
  {
   "cell_type": "code",
   "execution_count": 85,
   "metadata": {
    "collapsed": true
   },
   "outputs": [],
   "source": [
    "train_df['ancienety'] = ancienety\n",
    "test_df['ancienety'] = ancienety_test"
   ]
  },
  {
   "cell_type": "markdown",
   "metadata": {},
   "source": [
    "#### distribution of the target"
   ]
  },
  {
   "cell_type": "code",
   "execution_count": 86,
   "metadata": {},
   "outputs": [
    {
     "data": {
      "image/png": "[encoded data removed]",
      "text/plain": [
       "<Figure size 720x504 with 1 Axes>"
      ]
     },
     "metadata": {},
     "output_type": "display_data"
    }
   ],
   "source": [
    "plt.figure(figsize=(10, 7))\n",
    "sns.distplot(train_df['target'])\n",
    "plt.show()"
   ]
  },
  {
   "cell_type": "markdown",
   "metadata": {},
   "source": [
    "look at that cute outlier on far left"
   ]
  },
  {
   "cell_type": "code",
   "execution_count": 87,
   "metadata": {
    "collapsed": true
   },
   "outputs": [],
   "source": [
    "df_outlier = train_df[train_df['target'] < -30]"
   ]
  },
  {
   "cell_type": "code",
   "execution_count": 88,
   "metadata": {},
   "outputs": [
    {
     "name": "stdout",
     "output_type": "stream",
     "text": [
      "Number of outliers : 2207\n"
     ]
    }
   ],
   "source": [
    "print('Number of outliers :', len(df_outlier))"
   ]
  },
  {
   "cell_type": "code",
   "execution_count": 89,
   "metadata": {},
   "outputs": [
    {
     "data": {
      "text/html": [
       "<div>\n",
       "<style scoped>\n",
       "    .dataframe tbody tr th:only-of-type {\n",
       "        vertical-align: middle;\n",
       "    }\n",
       "\n",
       "    .dataframe tbody tr th {\n",
       "        vertical-align: top;\n",
       "    }\n",
       "\n",
       "    .dataframe thead th {\n",
       "        text-align: right;\n",
       "    }\n",
       "</style>\n",
       "<table border=\"1\" class=\"dataframe\">\n",
       "  <thead>\n",
       "    <tr style=\"text-align: right;\">\n",
       "      <th></th>\n",
       "      <th>first_active_month</th>\n",
       "      <th>card_id</th>\n",
       "      <th>feature_1</th>\n",
       "      <th>feature_2</th>\n",
       "      <th>feature_3</th>\n",
       "      <th>target</th>\n",
       "      <th>ancienety</th>\n",
       "    </tr>\n",
       "  </thead>\n",
       "  <tbody>\n",
       "    <tr>\n",
       "      <th>64</th>\n",
       "      <td>2017-09-01</td>\n",
       "      <td>C_ID_8186f3fcc1</td>\n",
       "      <td>3</td>\n",
       "      <td>1</td>\n",
       "      <td>1</td>\n",
       "      <td>-33.219281</td>\n",
       "      <td>5</td>\n",
       "    </tr>\n",
       "    <tr>\n",
       "      <th>92</th>\n",
       "      <td>2015-05-01</td>\n",
       "      <td>C_ID_b9379a30ea</td>\n",
       "      <td>3</td>\n",
       "      <td>3</td>\n",
       "      <td>1</td>\n",
       "      <td>-33.219281</td>\n",
       "      <td>33</td>\n",
       "    </tr>\n",
       "    <tr>\n",
       "      <th>125</th>\n",
       "      <td>2015-10-01</td>\n",
       "      <td>C_ID_e9120f535c</td>\n",
       "      <td>3</td>\n",
       "      <td>3</td>\n",
       "      <td>1</td>\n",
       "      <td>-33.219281</td>\n",
       "      <td>28</td>\n",
       "    </tr>\n",
       "    <tr>\n",
       "      <th>151</th>\n",
       "      <td>2017-03-01</td>\n",
       "      <td>C_ID_65715cb80d</td>\n",
       "      <td>4</td>\n",
       "      <td>2</td>\n",
       "      <td>0</td>\n",
       "      <td>-33.219281</td>\n",
       "      <td>11</td>\n",
       "    </tr>\n",
       "    <tr>\n",
       "      <th>225</th>\n",
       "      <td>2017-01-01</td>\n",
       "      <td>C_ID_ae77d244b6</td>\n",
       "      <td>2</td>\n",
       "      <td>1</td>\n",
       "      <td>0</td>\n",
       "      <td>-33.219281</td>\n",
       "      <td>13</td>\n",
       "    </tr>\n",
       "  </tbody>\n",
       "</table>\n",
       "</div>"
      ],
      "text/plain": [
       "    first_active_month          card_id  feature_1  feature_2  feature_3  \\\n",
       "64          2017-09-01  C_ID_8186f3fcc1          3          1          1   \n",
       "92          2015-05-01  C_ID_b9379a30ea          3          3          1   \n",
       "125         2015-10-01  C_ID_e9120f535c          3          3          1   \n",
       "151         2017-03-01  C_ID_65715cb80d          4          2          0   \n",
       "225         2017-01-01  C_ID_ae77d244b6          2          1          0   \n",
       "\n",
       "        target  ancienety  \n",
       "64  -33.219281          5  \n",
       "92  -33.219281         33  \n",
       "125 -33.219281         28  \n",
       "151 -33.219281         11  \n",
       "225 -33.219281         13  "
      ]
     },
     "execution_count": 89,
     "metadata": {},
     "output_type": "execute_result"
    }
   ],
   "source": [
    "df_outlier.head()"
   ]
  },
  {
   "cell_type": "code",
   "execution_count": 90,
   "metadata": {
    "collapsed": true
   },
   "outputs": [],
   "source": [
    "df_inlier = train_df[train_df['target'] > -30]"
   ]
  },
  {
   "cell_type": "markdown",
   "metadata": {},
   "source": [
    "Nothing can be said so far, except that they'll play an important role in the future."
   ]
  },
  {
   "cell_type": "markdown",
   "metadata": {},
   "source": [
    "### Base Model"
   ]
  },
  {
   "cell_type": "markdown",
   "metadata": {},
   "source": [
    "### Linear Regression"
   ]
  },
  {
   "cell_type": "code",
   "execution_count": 93,
   "metadata": {},
   "outputs": [],
   "source": [
    "X_train = np.array(train_df[['feature_1', 'feature_2', 'feature_3', 'ancienety']])\n",
    "X_test = np.array(test_df[['feature_1', 'feature_2', 'feature_3', 'ancienety']])\n",
    "y_train = np.array(train_df['target'])"
   ]
  },
  {
   "cell_type": "code",
   "execution_count": 95,
   "metadata": {
    "collapsed": true
   },
   "outputs": [],
   "source": [
    "lin_reg = LinearRegression()\n",
    "lin_reg.fit(X_train, y_train)\n",
    "y_pred = lin_reg.predict(X_train)"
   ]
  },
  {
   "cell_type": "code",
   "execution_count": 96,
   "metadata": {},
   "outputs": [
    {
     "name": "stdout",
     "output_type": "stream",
     "text": [
      "RMSE on train data : 3.845319331599567\n"
     ]
    }
   ],
   "source": [
    "print('RMSE on train data :', np.sqrt(mean_squared_error(y_train, y_pred)))"
   ]
  },
  {
   "cell_type": "code",
   "execution_count": 97,
   "metadata": {
    "collapsed": true
   },
   "outputs": [],
   "source": [
    "y_test = lin_reg.predict(X_test)"
   ]
  },
  {
   "cell_type": "markdown",
   "metadata": {},
   "source": [
    "#### Linear Regression without Outliers"
   ]
  },
  {
   "cell_type": "code",
   "execution_count": 153,
   "metadata": {
    "collapsed": true
   },
   "outputs": [],
   "source": [
    "X_inlier = np.array(df_inlier[['feature_1', 'feature_2', 'feature_3', 'ancienety']])\n",
    "y_inlier = np.array(df_inlier['target'])"
   ]
  },
  {
   "cell_type": "code",
   "execution_count": 154,
   "metadata": {
    "collapsed": true
   },
   "outputs": [],
   "source": [
    "lin_reg = LinearRegression()\n",
    "lin_reg.fit(X_inlier, y_inlier)\n",
    "y_pred = lin_reg.predict(X_inlier)"
   ]
  },
  {
   "cell_type": "code",
   "execution_count": 155,
   "metadata": {},
   "outputs": [
    {
     "name": "stdout",
     "output_type": "stream",
     "text": [
      "RMSE on inliers : 1.7176563319917568\n"
     ]
    }
   ],
   "source": [
    "print('RMSE on inliers :', np.sqrt(mean_squared_error(y_inlier, y_pred)))"
   ]
  },
  {
   "cell_type": "code",
   "execution_count": 156,
   "metadata": {
    "collapsed": true
   },
   "outputs": [],
   "source": [
    "y_test = lin_reg.predict(X_test)"
   ]
  },
  {
   "cell_type": "markdown",
   "metadata": {},
   "source": [
    "#### submission"
   ]
  },
  {
   "cell_type": "code",
   "execution_count": 157,
   "metadata": {
    "collapsed": true
   },
   "outputs": [],
   "source": [
    "submission = pd.DataFrame({\"card_id\": test_df[\"card_id\"].values})\n",
    "submission[\"target\"] = y_test"
   ]
  },
  {
   "cell_type": "code",
   "execution_count": 158,
   "metadata": {
    "collapsed": true
   },
   "outputs": [],
   "source": [
    "submission.to_csv(\"submission.csv\", index=False)"
   ]
  },
  {
   "cell_type": "markdown",
   "metadata": {},
   "source": [
    " simple model scored 3.925, which is good"
   ]
  },
  {
   "cell_type": "code",
   "execution_count": null,
   "metadata": {
    "collapsed": true
   },
   "outputs": [],
   "source": []
  },
  {
   "cell_type": "markdown",
   "metadata": {},
   "source": [
    "### lgbm"
   ]
  },
  {
   "cell_type": "code",
   "execution_count": 148,
   "metadata": {
    "collapsed": true
   },
   "outputs": [],
   "source": [
    "from sklearn.model_selection import train_test_split\n",
    "import lightgbm"
   ]
  },
  {
   "cell_type": "code",
   "execution_count": 171,
   "metadata": {},
   "outputs": [],
   "source": [
    "x = df_inlier[['feature_1', 'feature_2', 'feature_3', 'ancienety']]\n",
    "y = df_inlier[['target']]"
   ]
  },
  {
   "cell_type": "code",
   "execution_count": 172,
   "metadata": {},
   "outputs": [],
   "source": [
    "x, x_test, y, y_test = train_test_split(x, y, test_size=0.2, random_state=42)\n",
    "train = df_inlier"
   ]
  },
  {
   "cell_type": "code",
   "execution_count": 173,
   "metadata": {},
   "outputs": [],
   "source": [
    "categorical_features = [c for c, col in enumerate(train.columns) if 'cat' in col]\n",
    "train_data = lightgbm.Dataset(x, label=y, categorical_feature=categorical_features)\n",
    "test_data = lightgbm.Dataset(x_test, label=y_test)"
   ]
  },
  {
   "cell_type": "code",
   "execution_count": 174,
   "metadata": {},
   "outputs": [],
   "source": [
    "parameters = {\n",
    "    'application': 'binary',\n",
    "    'objective': 'binary',\n",
    "    'metric': 'auc',\n",
    "    'is_unbalance': 'true',\n",
    "    'boosting': 'gbdt',\n",
    "    'num_leaves': 31,\n",
    "    'feature_fraction': 0.5,\n",
    "    'bagging_fraction': 0.5,\n",
    "    'bagging_freq': 20,\n",
    "    'learning_rate': 0.05,\n",
    "    'verbose': 0\n",
    "}"
   ]
  },
  {
   "cell_type": "code",
   "execution_count": 175,
   "metadata": {},
   "outputs": [
    {
     "name": "stdout",
     "output_type": "stream",
     "text": [
      "[1]\tvalid_0's auc: 0.514554\n",
      "Training until validation scores don't improve for 100 rounds.\n",
      "[2]\tvalid_0's auc: 0.516777\n",
      "[3]\tvalid_0's auc: 0.51683\n",
      "[4]\tvalid_0's auc: 0.516701\n",
      "[5]\tvalid_0's auc: 0.517061\n",
      "[6]\tvalid_0's auc: 0.517277\n",
      "[7]\tvalid_0's auc: 0.517334\n",
      "[8]\tvalid_0's auc: 0.517149\n",
      "[9]\tvalid_0's auc: 0.517283\n",
      "[10]\tvalid_0's auc: 0.517308\n",
      "[11]\tvalid_0's auc: 0.517419\n",
      "[12]\tvalid_0's auc: 0.517204\n",
      "[13]\tvalid_0's auc: 0.517255\n",
      "[14]\tvalid_0's auc: 0.517272\n",
      "[15]\tvalid_0's auc: 0.51734\n",
      "[16]\tvalid_0's auc: 0.517152\n",
      "[17]\tvalid_0's auc: 0.517146\n",
      "[18]\tvalid_0's auc: 0.516998\n",
      "[19]\tvalid_0's auc: 0.517046\n",
      "[20]\tvalid_0's auc: 0.517018\n",
      "[21]\tvalid_0's auc: 0.516967\n",
      "[22]\tvalid_0's auc: 0.516934\n",
      "[23]\tvalid_0's auc: 0.51692\n",
      "[24]\tvalid_0's auc: 0.516897\n",
      "[25]\tvalid_0's auc: 0.516823\n",
      "[26]\tvalid_0's auc: 0.51685\n",
      "[27]\tvalid_0's auc: 0.516837\n",
      "[28]\tvalid_0's auc: 0.516817\n",
      "[29]\tvalid_0's auc: 0.516853\n",
      "[30]\tvalid_0's auc: 0.516925\n",
      "[31]\tvalid_0's auc: 0.516897\n",
      "[32]\tvalid_0's auc: 0.516932\n",
      "[33]\tvalid_0's auc: 0.516797\n",
      "[34]\tvalid_0's auc: 0.516703\n",
      "[35]\tvalid_0's auc: 0.516649\n",
      "[36]\tvalid_0's auc: 0.516459\n",
      "[37]\tvalid_0's auc: 0.516477\n",
      "[38]\tvalid_0's auc: 0.516343\n",
      "[39]\tvalid_0's auc: 0.516382\n",
      "[40]\tvalid_0's auc: 0.516291\n",
      "[41]\tvalid_0's auc: 0.516367\n",
      "[42]\tvalid_0's auc: 0.516334\n",
      "[43]\tvalid_0's auc: 0.516452\n",
      "[44]\tvalid_0's auc: 0.516568\n",
      "[45]\tvalid_0's auc: 0.516568\n",
      "[46]\tvalid_0's auc: 0.516682\n",
      "[47]\tvalid_0's auc: 0.516808\n",
      "[48]\tvalid_0's auc: 0.516696\n",
      "[49]\tvalid_0's auc: 0.516773\n",
      "[50]\tvalid_0's auc: 0.516597\n",
      "[51]\tvalid_0's auc: 0.516549\n",
      "[52]\tvalid_0's auc: 0.516454\n",
      "[53]\tvalid_0's auc: 0.516466\n",
      "[54]\tvalid_0's auc: 0.516172\n",
      "[55]\tvalid_0's auc: 0.516219\n",
      "[56]\tvalid_0's auc: 0.516034\n",
      "[57]\tvalid_0's auc: 0.516047\n",
      "[58]\tvalid_0's auc: 0.515944\n",
      "[59]\tvalid_0's auc: 0.516006\n",
      "[60]\tvalid_0's auc: 0.515894\n",
      "[61]\tvalid_0's auc: 0.516103\n",
      "[62]\tvalid_0's auc: 0.516104\n",
      "[63]\tvalid_0's auc: 0.51613\n",
      "[64]\tvalid_0's auc: 0.516128\n",
      "[65]\tvalid_0's auc: 0.516333\n",
      "[66]\tvalid_0's auc: 0.516318\n",
      "[67]\tvalid_0's auc: 0.516522\n",
      "[68]\tvalid_0's auc: 0.516397\n",
      "[69]\tvalid_0's auc: 0.516577\n",
      "[70]\tvalid_0's auc: 0.516496\n",
      "[71]\tvalid_0's auc: 0.516595\n",
      "[72]\tvalid_0's auc: 0.516536\n",
      "[73]\tvalid_0's auc: 0.516636\n",
      "[74]\tvalid_0's auc: 0.516563\n",
      "[75]\tvalid_0's auc: 0.516668\n",
      "[76]\tvalid_0's auc: 0.516657\n",
      "[77]\tvalid_0's auc: 0.516695\n",
      "[78]\tvalid_0's auc: 0.516667\n",
      "[79]\tvalid_0's auc: 0.516706\n",
      "[80]\tvalid_0's auc: 0.516637\n",
      "[81]\tvalid_0's auc: 0.516662\n",
      "[82]\tvalid_0's auc: 0.516714\n",
      "[83]\tvalid_0's auc: 0.516733\n",
      "[84]\tvalid_0's auc: 0.51676\n",
      "[85]\tvalid_0's auc: 0.516805\n",
      "[86]\tvalid_0's auc: 0.516866\n",
      "[87]\tvalid_0's auc: 0.516902\n",
      "[88]\tvalid_0's auc: 0.516933\n",
      "[89]\tvalid_0's auc: 0.516956\n",
      "[90]\tvalid_0's auc: 0.516967\n",
      "[91]\tvalid_0's auc: 0.516993\n",
      "[92]\tvalid_0's auc: 0.516967\n",
      "[93]\tvalid_0's auc: 0.517069\n",
      "[94]\tvalid_0's auc: 0.516973\n",
      "[95]\tvalid_0's auc: 0.517004\n",
      "[96]\tvalid_0's auc: 0.517048\n",
      "[97]\tvalid_0's auc: 0.517078\n",
      "[98]\tvalid_0's auc: 0.517008\n",
      "[99]\tvalid_0's auc: 0.517008\n",
      "[100]\tvalid_0's auc: 0.517217\n",
      "[101]\tvalid_0's auc: 0.517141\n",
      "[102]\tvalid_0's auc: 0.516903\n",
      "[103]\tvalid_0's auc: 0.516923\n",
      "[104]\tvalid_0's auc: 0.51679\n",
      "[105]\tvalid_0's auc: 0.516759\n",
      "[106]\tvalid_0's auc: 0.51663\n",
      "[107]\tvalid_0's auc: 0.516618\n",
      "[108]\tvalid_0's auc: 0.516489\n",
      "[109]\tvalid_0's auc: 0.516453\n",
      "[110]\tvalid_0's auc: 0.516308\n",
      "[111]\tvalid_0's auc: 0.516352\n",
      "Early stopping, best iteration is:\n",
      "[11]\tvalid_0's auc: 0.517419\n"
     ]
    }
   ],
   "source": [
    "model = lightgbm.train(parameters,\n",
    "                       train_data,\n",
    "                       valid_sets=test_data,\n",
    "                       num_boost_round=5000,\n",
    "                       early_stopping_rounds=100)"
   ]
  },
  {
   "cell_type": "code",
   "execution_count": 151,
   "metadata": {},
   "outputs": [],
   "source": []
  },
  {
   "cell_type": "code",
   "execution_count": null,
   "metadata": {},
   "outputs": [],
   "source": [
    "\n"
   ]
  },
  {
   "cell_type": "code",
   "execution_count": 170,
   "metadata": {},
   "outputs": [],
   "source": []
  },
  {
   "cell_type": "code",
   "execution_count": null,
   "metadata": {},
   "outputs": [],
   "source": []
  },
  {
   "cell_type": "code",
   "execution_count": null,
   "metadata": {},
   "outputs": [],
   "source": []
  },
  {
   "cell_type": "code",
   "execution_count": null,
   "metadata": {},
   "outputs": [],
   "source": []
  },
  {
   "cell_type": "code",
   "execution_count": null,
   "metadata": {},
   "outputs": [],
   "source": []
  },
  {
   "cell_type": "code",
   "execution_count": null,
   "metadata": {},
   "outputs": [],
   "source": []
  },
  {
   "cell_type": "code",
   "execution_count": null,
   "metadata": {},
   "outputs": [],
   "source": []
  },
  {
   "cell_type": "code",
   "execution_count": null,
   "metadata": {
    "collapsed": true
   },
   "outputs": [],
   "source": []
  }
 ],
 "metadata": {
  "kernelspec": {
   "display_name": "Python 3",
   "language": "python",
   "name": "python3"
  },
  "language_info": {
   "codemirror_mode": {
    "name": "ipython",
    "version": 3
   },
   "file_extension": ".py",
   "mimetype": "text/x-python",
   "name": "python",
   "nbconvert_exporter": "python",
   "pygments_lexer": "ipython3",
   "version": "3.5.4"
  }
 },
 "nbformat": 4,
 "nbformat_minor": 2
}
